{
 "cells": [
  {
   "cell_type": "code",
   "execution_count": 37,
   "id": "99617745",
   "metadata": {},
   "outputs": [],
   "source": [
    "import asyncio\n",
    "import matplotlib.pyplot as plt\n",
    "import numpy as np\n",
    "\n",
    "from cvbot.communication.txtapiclient import TxtApiClient\n",
    "from cvbot.controller.easy_drive_controller import EasyDriveController\n",
    "from cvbot.config.drive_robot_configuration import DriveRobotConfiguration"
   ]
  },
  {
   "cell_type": "code",
   "execution_count": 38,
   "id": "3b9f847d",
   "metadata": {},
   "outputs": [],
   "source": [
    "HOST = \"127.0.0.1\"\n",
    "PORT = 8080\n",
    "KEY = \"TEST\"\n",
    "api_client = TxtApiClient(HOST, PORT, KEY)\n",
    "await api_client.initialize()\n",
    "controller = EasyDriveController(api_client, DriveRobotConfiguration())"
   ]
  },
  {
   "cell_type": "code",
   "execution_count": null,
   "id": "58416b67",
   "metadata": {},
   "outputs": [],
   "source": [
    "await controller.drive(np.array([10.0, 0.0, 0.25*np.pi]))\n",
    "await asyncio.sleep(1.0)\n",
    "await controller.stop()\n",
    "await anext(controller.camera())\n",
    "frame = await anext(controller.camera())\n",
    "_ = plt.imshow(frame)"
   ]
  }
 ],
 "metadata": {
  "kernelspec": {
   "display_name": "cvbot-pi",
   "language": "python",
   "name": "python3"
  },
  "language_info": {
   "codemirror_mode": {
    "name": "ipython",
    "version": 3
   },
   "file_extension": ".py",
   "mimetype": "text/x-python",
   "name": "python",
   "nbconvert_exporter": "python",
   "pygments_lexer": "ipython3",
   "version": "3.13.2"
  }
 },
 "nbformat": 4,
 "nbformat_minor": 5
}
